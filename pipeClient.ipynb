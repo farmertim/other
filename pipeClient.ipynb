{
 "cells": [
  {
   "cell_type": "code",
   "execution_count": null,
   "metadata": {},
   "outputs": [],
   "source": [
    "import time\n",
    "import struct\n",
    "import cv2\n",
    "import numpy as np\n",
    "import io\n",
    "import matplotlib.pyplot as plt # plt 用於顯示圖片\n",
    "\n",
    "from PIL import Image\n",
    "f = open(r'\\\\.\\pipe\\PipePython', 'r+b', 0)\n",
    "i = 1\n",
    "\n",
    "while True:\n",
    "    n = struct.unpack('I', f.read(4))[0]    # Read str length\n",
    "    s = f.read(n)                           # Read str\n",
    "    f.seek(0)      \n",
    "    byte_stream = io.BytesIO(s) \n",
    "    roiImg = Image.open(byte_stream)\n",
    "    img = cv2.cvtColor(np.asarray(roiImg),cv2.COLOR_RGB2BGR)  \n",
    "    cv2.imshow(\"OpenCV\",img)  \n",
    "    cv2.waitKey(1)"
   ]
  },
  {
   "cell_type": "code",
   "execution_count": 4,
   "metadata": {},
   "outputs": [
    {
     "data": {
      "text/plain": [
       "-1"
      ]
     },
     "execution_count": 4,
     "metadata": {},
     "output_type": "execute_result"
    }
   ],
   "source": [
    "\n",
    "import cv2  \n",
    "from PIL import Image  \n",
    "import numpy  \n",
    "import matplotlib.pyplot as plt\n",
    "image = Image.open(\"D:\\\\b.png\")  \n",
    "plt.show()  \n",
    "img = cv2.cvtColor(numpy.asarray(image),cv2.COLOR_RGB2BGR)  \n",
    "cv2.imshow(\"OpenCV\",img)  \n",
    "cv2.waitKey()"
   ]
  },
  {
   "cell_type": "code",
   "execution_count": 3,
   "metadata": {},
   "outputs": [
    {
     "data": {
      "text/plain": [
       "<matplotlib.image.AxesImage at 0x21ef1ac7c50>"
      ]
     },
     "execution_count": 3,
     "metadata": {},
     "output_type": "execute_result"
    },
    {
     "data": {
      "image/png": "[encoded data removed]",
      "text/plain": [
       "<Figure size 432x288 with 1 Axes>"
      ]
     },
     "metadata": {
      "needs_background": "light"
     },
     "output_type": "display_data"
    }
   ],
   "source": [
    "import matplotlib.pyplot as plt # plt 用於顯示圖片\n",
    "import matplotlib.image as mpimg # mpimg 用於讀取圖片\n",
    "import numpy as np\n",
    "lena = mpimg.imread('D:\\\\b.png') # 讀取和程式碼處於同一目錄下的 lena.png\n",
    "# 此時 lena 就已經是一個 np.array 了，可以對它進行任意處理\n",
    "lena.shape #(512, 512, 3)\n",
    "plt.imshow(lena) # 顯示圖片\n",
    "#plt.axis('off') # 不顯示座標軸\n",
    "#plt.show()"
   ]
  },
  {
   "cell_type": "code",
   "execution_count": null,
   "metadata": {},
   "outputs": [],
   "source": []
  }
 ],
 "metadata": {
  "kernelspec": {
   "display_name": "Python 3",
   "language": "python",
   "name": "python3"
  },
  "language_info": {
   "codemirror_mode": {
    "name": "ipython",
    "version": 3
   },
   "file_extension": ".py",
   "mimetype": "text/x-python",
   "name": "python",
   "nbconvert_exporter": "python",
   "pygments_lexer": "ipython3",
   "version": "3.6.10"
  }
 },
 "nbformat": 4,
 "nbformat_minor": 4
}
